{
 "cells": [
  {
   "cell_type": "markdown",
   "id": "19fb4e53",
   "metadata": {},
   "source": [
    "# Scraping IMDb for Top 250 TV Shows using Python \n",
    "\n",
    "**Web Scraping** is process of collecting information from a website in an automated manner using code. This information is collected and then exported into a format that is more useful for the user. I will be using the libraries [Requests](https://docs.python-requests.org/en/master/index.html) and [BeautifulSoup](https://www.crummy.com/software/BeautifulSoup/bs4/doc/) in Python to scrape data from the website.\n",
    "\n",
    "[IMDb](https://www.imdb.com/) is the world's most popular website that contains information about TV Shows, movies, video games, and streaming content online – including cast, production crew, plot summaries, trivia, ratings, fan and critical reviews and a lot more. It is designed to help fans explore the world of movies and shows and decide what to watch.\n",
    "\n",
    "The page https://www.imdb.com/chart/toptv/ provides a list of the top 250 TV Shows as rated by the IMDb users. In this project I will retrive information from this page using _web scraping_. This is how the IMDb site looks: ![](https://i.imgur.com/JYEtFsw.png) \n",
    "\n",
    "Here is the outline of the steps that I am planning to follow:\n",
    "1. Import the required libraries and download the website using `requests`\n",
    "2. Parse the HTML source code using `BeautifulSoup`\n",
    "3. Extract the top 250 TV Shows rank, title, release year, IMDb ratings, genre, runtime, and plot summary from the website\n",
    "4. Complie extracted information into Python dictionaries and `Pandas` DataFrame\n",
    "5. Save the extracted information to a CSV file. \n",
    "\n",
    "By the end of the project I will create a CSV file in the following format:\n",
    "\n",
    "```\n",
    "Rank, Title, Release Year, IMDb Ratings, Genre, Runtime, Plot Summary\n",
    "1, Planet Earth II, 2016, 9.5, Documentary, 4h 58min, Wildlife documentary series with David Attenborough, beginning with a look at the remote islands which offer sanctuary to some of the planet's rarest creatures, to the beauty of cities, which are home to humans, and animals..\n",
    "2, Planet Earth, 2006, 9.4, Documentary, 8h 58min, Emmy Award-winning, 11 episodes, five years in the making, the most expensive nature documentary series ever commissioned by the BBC, and the first to be filmed in high definition.\t\n",
    "....\n",
    "```\n"
   ]
  },
  {
   "cell_type": "markdown",
   "id": "275c6a49",
   "metadata": {},
   "source": [
    "## Download the webpage using `requests`\n"
   ]
  },
  {
   "cell_type": "markdown",
   "id": "1b0d311b",
   "metadata": {},
   "source": [
    "These are the libraries that I will be using:\n",
    "- **[Requests Library](https://docs.python-requests.org/en/master/index.html)** to use built-in methods for making HTTP requests\n",
    "- **[BeautifulSoup Library](https://www.crummy.com/software/BeautifulSoup/bs4/doc/)** to pull data out of HTML File \n",
    "- **[Pandas Library](https://pandas.pydata.org/docs/)** for Data Manipulation\n",
    "\n",
    "The libraries can be installed using `pip`."
   ]
  },
  {
   "cell_type": "code",
   "execution_count": 3,
   "id": "f171c245",
   "metadata": {},
   "outputs": [],
   "source": [
    "# Installing the libraries\n",
    "!pip install jovian requests beautifulsoup4 pandas --upgrade --quiet"
   ]
  },
  {
   "cell_type": "code",
   "execution_count": 2,
   "id": "5e7b1cf1",
   "metadata": {},
   "outputs": [],
   "source": [
    "# Importing the libraries\n",
    "import jovian \n",
    "import requests \n",
    "from bs4 import BeautifulSoup\n",
    "import pandas as pd"
   ]
  },
  {
   "cell_type": "markdown",
   "id": "f53da906",
   "metadata": {},
   "source": [
    "Assigning the url of the web page to the variable *data_set* and downloading its contents using the `requests.get` function "
   ]
  },
  {
   "cell_type": "code",
   "execution_count": 16,
   "id": "09074305",
   "metadata": {},
   "outputs": [],
   "source": [
    "imdb_url = 'https://www.imdb.com/chart/toptv/'"
   ]
  },
  {
   "cell_type": "code",
   "execution_count": 17,
   "id": "b55139a5",
   "metadata": {},
   "outputs": [],
   "source": [
    "response = requests.get(imdb_url)"
   ]
  },
  {
   "cell_type": "markdown",
   "id": "6d357249",
   "metadata": {},
   "source": [
    "`requests.get` returns a response object which has the contents of the web page and some other information."
   ]
  },
  {
   "cell_type": "markdown",
   "id": "2630267d",
   "metadata": {},
   "source": [
    "The `status_code` property can be used to check if the request was successful or not. A successful request returns an [HTTP status code](https://developer.mozilla.org/en-US/docs/Web/HTTP/Status) between 200 and 299."
   ]
  },
  {
   "cell_type": "code",
   "execution_count": 18,
   "id": "81d7fcfd",
   "metadata": {},
   "outputs": [
    {
     "data": {
      "text/plain": [
       "200"
      ]
     },
     "execution_count": 18,
     "metadata": {},
     "output_type": "execute_result"
    }
   ],
   "source": [
    "response.status_code"
   ]
  },
  {
   "cell_type": "markdown",
   "id": "df746b43",
   "metadata": {},
   "source": [
    "The request was successful"
   ]
  },
  {
   "cell_type": "markdown",
   "id": "6f1402ec",
   "metadata": {},
   "source": [
    "I am using the `.text` property of the `response` to access the contents of the web page. "
   ]
  },
  {
   "cell_type": "code",
   "execution_count": 19,
   "id": "8438db67",
   "metadata": {},
   "outputs": [],
   "source": [
    "page_contents = response.text"
   ]
  },
  {
   "cell_type": "markdown",
   "id": "532d6867",
   "metadata": {},
   "source": [
    "*page_contents* has the source code of the web page which is in HTML. This is what the first 200 characters look like"
   ]
  },
  {
   "cell_type": "code",
   "execution_count": 20,
   "id": "1a2d245f",
   "metadata": {
    "scrolled": true
   },
   "outputs": [
    {
     "data": {
      "text/plain": [
       "'\\n\\n\\n<!DOCTYPE html>\\n<html\\n    xmlns:og=\"http://ogp.me/ns#\"\\n    xmlns:fb=\"http://www.facebook.com/2008/fbml\">\\n    <head>\\n         \\n\\n        <meta charset=\"utf-8\">\\n        <meta http-equiv=\"X-UA-Compatib'"
      ]
     },
     "execution_count": 20,
     "metadata": {},
     "output_type": "execute_result"
    }
   ],
   "source": [
    "page_contents[:200]"
   ]
  },
  {
   "cell_type": "markdown",
   "id": "40babcab",
   "metadata": {},
   "source": [
    "## Parse the HTML source code using `BeautifulSoup`"
   ]
  },
  {
   "cell_type": "markdown",
   "id": "c918aeab",
   "metadata": {},
   "source": [
    "Creating a `BeautifulSoup` object named *doc* to parse the contents in *page_contents*"
   ]
  },
  {
   "cell_type": "code",
   "execution_count": 21,
   "id": "932c8bf3",
   "metadata": {},
   "outputs": [],
   "source": [
    "doc = BeautifulSoup(page_contents, 'html.parser')"
   ]
  },
  {
   "cell_type": "markdown",
   "id": "7ad49bf5",
   "metadata": {},
   "source": [
    "We can check the title of the webpage using `.title`"
   ]
  },
  {
   "cell_type": "code",
   "execution_count": 22,
   "id": "72107ba3",
   "metadata": {},
   "outputs": [
    {
     "data": {
      "text/plain": [
       "<title>IMDb Top 250 TV - IMDb</title>"
      ]
     },
     "execution_count": 22,
     "metadata": {},
     "output_type": "execute_result"
    }
   ],
   "source": [
    "doc.title"
   ]
  },
  {
   "cell_type": "markdown",
   "id": "4306e6e8",
   "metadata": {},
   "source": [
    "I am defining a `get_page` function that takes the URL of the web page, calls requests, checks the status code, gets the page contents and returns doc. "
   ]
  },
  {
   "cell_type": "code",
   "execution_count": 23,
   "id": "5e0920f1",
   "metadata": {},
   "outputs": [],
   "source": [
    "def get_page(url):\n",
    "    \"\"\"Download a web page and return a beautiful soup doc\"\"\"\n",
    "    # Get the HTML page content using requests\n",
    "    response = requests.get(url)\n",
    "        \n",
    "   # Check successful response\n",
    "    if not response.ok:\n",
    "        print('Status code:', response.status_code)\n",
    "        raise Exception('Failed to fetch web page ' + url)\n",
    "        \n",
    "    page_contents = response.text\n",
    "    \n",
    "    # Construct a beautiful soup document\n",
    "    doc = BeautifulSoup(response.text, 'html.parser')\n",
    "\n",
    "    return doc"
   ]
  },
  {
   "cell_type": "code",
   "execution_count": 24,
   "id": "23b275a7",
   "metadata": {},
   "outputs": [],
   "source": [
    "doc2 = get_page('https://www.imdb.com/chart/toptv/')"
   ]
  },
  {
   "cell_type": "code",
   "execution_count": 25,
   "id": "fb780d4b",
   "metadata": {},
   "outputs": [
    {
     "data": {
      "text/plain": [
       "<title>IMDb Top 250 TV - IMDb</title>"
      ]
     },
     "execution_count": 25,
     "metadata": {},
     "output_type": "execute_result"
    }
   ],
   "source": [
    "doc2.title"
   ]
  },
  {
   "cell_type": "markdown",
   "id": "8e359eb6",
   "metadata": {},
   "source": [
    "The function *get_page* returns doc and works successfully."
   ]
  },
  {
   "cell_type": "markdown",
   "id": "3e1a4d8a",
   "metadata": {},
   "source": [
    "We can now use the function `get_function` to download any web page and parse it using Beautiful Soup. "
   ]
  },
  {
   "cell_type": "markdown",
   "id": "9cb93330",
   "metadata": {},
   "source": [
    "## Extract the top 250 TV Shows "
   ]
  },
  {
   "cell_type": "markdown",
   "id": "f27979af",
   "metadata": {},
   "source": [
    "### Finding Ranks of the TV Shows\n",
    "\n",
    "In web scraping we try to get information out of the HTML code by extracting the required [HTML tags](https://www.w3schools.com/TAGS/default.ASP). We use the inspect option in the web page to get to know the information contained in the HTML tags. \n",
    "\n",
    "For example in the highlighted part of the image below, `td` tag of class `titleColumn` contains the rank (\"1.\") and a few other tags. Any web page can be inspected by just right-clicking on the web page and clicking on inspect. \n",
    "![](https://i.imgur.com/M8ImBLx.png)\n",
    "\n",
    "I will first try to just extract the rank of the show. Below is the function to do so:"
   ]
  },
  {
   "cell_type": "code",
   "execution_count": 26,
   "id": "c20007b4",
   "metadata": {},
   "outputs": [],
   "source": [
    "def get_ranks(doc):\n",
    "    '''Function to get the rank of all the TV Shows'''\n",
    "    # Get the list of all the td tags of class 'titleColumn'\n",
    "    tv_show_rank_tags = doc.select('td.titleColumn')\n",
    "    \n",
    "    # Iterate over individual tags to extract rank and append all the results to tv_show_rank \n",
    "    tv_show_rank= []\n",
    "    \n",
    "    for tv_show_rank_tag in tv_show_rank_tags:\n",
    "        # Since the for loop returns the rank along with some other tags I will be using the index of the list  \n",
    "        if tv_show_rank_tag.text.strip()[1] == '.':\n",
    "            tv_show_rank.append(tv_show_rank_tag.text.strip()[0:1])\n",
    "        elif tv_show_rank_tag.text.strip()[2] == '.':\n",
    "            tv_show_rank.append(tv_show_rank_tag.text.strip()[0:2])\n",
    "        else:\n",
    "            tv_show_rank.append(tv_show_rank_tag.text.strip()[0:3])\n",
    "    \n",
    "    return tv_show_rank"
   ]
  },
  {
   "cell_type": "markdown",
   "id": "1b867691",
   "metadata": {},
   "source": [
    "The function `get_ranks` takes a BeautifulSoup object as an input and returns the rank of the TV Shows listed in the website. Below is a sample output:"
   ]
  },
  {
   "cell_type": "code",
   "execution_count": 27,
   "id": "7e28be6a",
   "metadata": {},
   "outputs": [],
   "source": [
    "ranks = get_ranks(doc)"
   ]
  },
  {
   "cell_type": "code",
   "execution_count": 28,
   "id": "4e773f2a",
   "metadata": {},
   "outputs": [
    {
     "data": {
      "text/plain": [
       "250"
      ]
     },
     "execution_count": 28,
     "metadata": {},
     "output_type": "execute_result"
    }
   ],
   "source": [
    "len(ranks)"
   ]
  },
  {
   "cell_type": "markdown",
   "id": "9b5e4b43",
   "metadata": {},
   "source": [
    "The length of *ranks* is 250 which shows that our output is correct. Here is the first ten ranks of the TV Shows:"
   ]
  },
  {
   "cell_type": "code",
   "execution_count": 29,
   "id": "5e97b742",
   "metadata": {},
   "outputs": [
    {
     "data": {
      "text/plain": [
       "['1', '2', '3', '4', '5', '6', '7', '8', '9', '10']"
      ]
     },
     "execution_count": 29,
     "metadata": {},
     "output_type": "execute_result"
    }
   ],
   "source": [
    "ranks[:10]"
   ]
  },
  {
   "cell_type": "markdown",
   "id": "4d848815",
   "metadata": {},
   "source": [
    "### Finding Titles of the TV Shows \n",
    "The TV Shows titles are contained in the `a href` tag with a parent `td` tag of class `titleColumn` as shown in the image below: ![](https://i.imgur.com/57gOFqK.png)\n",
    "\n",
    "Below is the function to extract the titles:"
   ]
  },
  {
   "cell_type": "code",
   "execution_count": 31,
   "id": "8dc436ab",
   "metadata": {},
   "outputs": [],
   "source": [
    "def get_title(doc):\n",
    "    '''Function to get the title of all the TV Shows'''\n",
    "    # Get a[href] attribute from td tags of class 'titleColumn' for Title\n",
    "    tv_show_title_tags = doc.select('td.titleColumn a[href]')\n",
    "    \n",
    "    # Iterate over individual tags to extract title and append all the results to tv_show_titles\n",
    "    tv_show_titles = []\n",
    "    for tv_show_title_tag in tv_show_title_tags:\n",
    "        tv_show_titles.append(tv_show_title_tag.text)\n",
    "\n",
    "    return tv_show_titles"
   ]
  },
  {
   "cell_type": "markdown",
   "id": "959d9c00",
   "metadata": {},
   "source": [
    "The function `get_title` takes a Beautiful Soup object as an input and returns all the titles of the TV Shows mentioned in the website. Here is a sample output:"
   ]
  },
  {
   "cell_type": "code",
   "execution_count": 32,
   "id": "873fd3bd",
   "metadata": {},
   "outputs": [],
   "source": [
    "titles = get_title(doc)"
   ]
  },
  {
   "cell_type": "code",
   "execution_count": 33,
   "id": "869710b8",
   "metadata": {},
   "outputs": [
    {
     "data": {
      "text/plain": [
       "250"
      ]
     },
     "execution_count": 33,
     "metadata": {},
     "output_type": "execute_result"
    }
   ],
   "source": [
    "len(titles)"
   ]
  },
  {
   "cell_type": "markdown",
   "id": "913b5367",
   "metadata": {},
   "source": [
    "The length of *titles* is 250 which shows that our output is correct. Below is the first ten titles of the TV Shows:"
   ]
  },
  {
   "cell_type": "code",
   "execution_count": 34,
   "id": "9ebce5f3",
   "metadata": {},
   "outputs": [
    {
     "data": {
      "text/plain": [
       "['Planet Earth II',\n",
       " 'Planet Earth',\n",
       " 'Breaking Bad',\n",
       " 'Band of Brothers',\n",
       " 'Chernobyl',\n",
       " 'The Wire',\n",
       " 'Blue Planet II',\n",
       " 'Our Planet',\n",
       " 'Cosmos: A Spacetime Odyssey',\n",
       " 'Avatar: The Last Airbender']"
      ]
     },
     "execution_count": 34,
     "metadata": {},
     "output_type": "execute_result"
    }
   ],
   "source": [
    "titles[:10]"
   ]
  },
  {
   "cell_type": "markdown",
   "id": "f1b518cb",
   "metadata": {},
   "source": [
    "### Finding the Release Year of the TV Shows \n",
    "The release year of the TV Shows are contained in `span` tag with a parent tag `td` of class `titleColumn` as shown in the image below: \n",
    "![](https://i.imgur.com/yCJuoRd.png)\n",
    "Below is the function to get the release years:"
   ]
  },
  {
   "cell_type": "code",
   "execution_count": 35,
   "id": "323aa039",
   "metadata": {},
   "outputs": [],
   "source": [
    "def get_release_years(doc):\n",
    "    '''Function to get the release year of all the TV Shows'''\n",
    "    # Get span attribute from td tags of class 'titleColumn' for Release Years\n",
    "    tv_show_release_year_tags = doc.select('td.titleColumn span')\n",
    "    \n",
    "    # Iterate over individual tags to extract release year and append all the results to tv_show_release_year\n",
    "    tv_show_release_years = []\n",
    "    for tv_show_release_year_tag in tv_show_release_year_tags:\n",
    "        tv_show_release_years.append(tv_show_release_year_tag.text[1:-1])\n",
    "\n",
    "    return tv_show_release_years"
   ]
  },
  {
   "cell_type": "markdown",
   "id": "bbd26bf6",
   "metadata": {},
   "source": [
    "The function `get_release_years` takes a Beautiful Soup object as an input and returns all the release years of the TV Shows mentioned in the website. "
   ]
  },
  {
   "cell_type": "code",
   "execution_count": 36,
   "id": "616ceecd",
   "metadata": {},
   "outputs": [],
   "source": [
    "release_years = get_release_years(doc)"
   ]
  },
  {
   "cell_type": "code",
   "execution_count": 37,
   "id": "e66a0f68",
   "metadata": {},
   "outputs": [
    {
     "data": {
      "text/plain": [
       "250"
      ]
     },
     "execution_count": 37,
     "metadata": {},
     "output_type": "execute_result"
    }
   ],
   "source": [
    "len(release_years)"
   ]
  },
  {
   "cell_type": "markdown",
   "id": "441ae092",
   "metadata": {},
   "source": [
    "The length of *release_years* is 250 which shows that our output is correct. Below is the first ten release years of the TV Shows:"
   ]
  },
  {
   "cell_type": "code",
   "execution_count": 38,
   "id": "7fa4ce4d",
   "metadata": {},
   "outputs": [
    {
     "data": {
      "text/plain": [
       "['2016',\n",
       " '2006',\n",
       " '2008',\n",
       " '2001',\n",
       " '2019',\n",
       " '2002',\n",
       " '2017',\n",
       " '2019',\n",
       " '2014',\n",
       " '2005']"
      ]
     },
     "execution_count": 38,
     "metadata": {},
     "output_type": "execute_result"
    }
   ],
   "source": [
    "release_years[:10]"
   ]
  },
  {
   "cell_type": "markdown",
   "id": "f3d5cadd",
   "metadata": {},
   "source": [
    "### Finding IMDB Ratings of the TV Shows \n",
    "The IMDb rating is contained in the `td` tag of class `ratingColumn imdbRating`. We can see it in the image below:\n",
    "![](https://i.imgur.com/mOdsF44.png)\n",
    "\n",
    "Here is a function to get all the IMDb ratings of the TV Shows:"
   ]
  },
  {
   "cell_type": "code",
   "execution_count": 40,
   "id": "a03bb2b7",
   "metadata": {},
   "outputs": [],
   "source": [
    "def get_ratings(doc):\n",
    "    '''Function to get the IMDB ratings of all the TV Shows'''\n",
    "    # Get td tags of class 'ratingColumn imdbRating' for Ratings     \n",
    "    tv_show_rating_tags = doc.find_all('td', class_ = 'ratingColumn imdbRating')\n",
    "    \n",
    "    # Iterate over individual tags to extract ratings and append all the results to tv_show_rating    \n",
    "    tv_show_rating = []\n",
    "    for tv_show_rating_tag in tv_show_rating_tags:\n",
    "        tv_show_rating.append(tv_show_rating_tag.text.strip())\n",
    "        \n",
    "    return tv_show_rating"
   ]
  },
  {
   "cell_type": "markdown",
   "id": "b2171d13",
   "metadata": {},
   "source": [
    "The function `get_ratings` takes a Beautiful Soup object as an input and returns all the IMDb ratings of the TV Shows mentioned in the website. Here is a sample output:"
   ]
  },
  {
   "cell_type": "code",
   "execution_count": 41,
   "id": "0d978a07",
   "metadata": {},
   "outputs": [],
   "source": [
    "ratings = get_ratings(doc)"
   ]
  },
  {
   "cell_type": "code",
   "execution_count": 42,
   "id": "a58d728a",
   "metadata": {},
   "outputs": [
    {
     "data": {
      "text/plain": [
       "250"
      ]
     },
     "execution_count": 42,
     "metadata": {},
     "output_type": "execute_result"
    }
   ],
   "source": [
    "len(ratings)"
   ]
  },
  {
   "cell_type": "markdown",
   "id": "8326cfd7",
   "metadata": {},
   "source": [
    "The length of *ratings* is 250 which shows that our output is correct. Below is the first ten IMDb ratings of the TV Shows:"
   ]
  },
  {
   "cell_type": "code",
   "execution_count": 43,
   "id": "00316888",
   "metadata": {
    "scrolled": true
   },
   "outputs": [
    {
     "data": {
      "text/plain": [
       "['9.5', '9.4', '9.4', '9.4', '9.3', '9.3', '9.3', '9.2', '9.2', '9.2']"
      ]
     },
     "execution_count": 43,
     "metadata": {},
     "output_type": "execute_result"
    }
   ],
   "source": [
    "ratings[:10]"
   ]
  },
  {
   "cell_type": "markdown",
   "id": "ab1dbbad",
   "metadata": {},
   "source": [
    "I have extracted all the required information from the homepage. Now to get further information on Genres, Runtimes, and Plot Summaries we will have to go to the individual website of the TV Shows and extract information from there. This is how one of the individual TV Show website looks:\n",
    "\n",
    "![](https://i.imgur.com/WrTkjd8.png)\n",
    "\n",
    "First lets get the URLS of individual TV Shows. We can see that the individual link of the TV Show is contained in the *a href* attribute of `td` tag of class `titleColumn`: \n",
    "![](https://i.imgur.com/57gOFqK.png)\n",
    "\n",
    "Here is function to get all the individual websites:"
   ]
  },
  {
   "cell_type": "code",
   "execution_count": 44,
   "id": "ee5463cf",
   "metadata": {},
   "outputs": [],
   "source": [
    "def get_tv_show_url(doc):\n",
    "    \"\"\"Function to get individual web sites of all the TV Shows\"\"\"\n",
    "\n",
    "    # Get a[href] attribute from td tags of class 'titleColumn'         \n",
    "    tv_show_href_tags = doc.select('td.titleColumn a[href]')\n",
    "    \n",
    "    # Iterate over individual tags to extract a[href] attribute and append all the results to href_list\n",
    "    href_list = []\n",
    "    for link in tv_show_href_tags:\n",
    "        a = (link['href'])\n",
    "        href_list.append(a)\n",
    "    \n",
    "    # Add the base url(https://www.imdb.com) to the href_list to get the indivdual websites\n",
    "    tv_show_urls = []\n",
    "    base_url = 'https://www.imdb.com'\n",
    "    for href in href_list:\n",
    "        url = base_url + href\n",
    "        tv_show_urls.append(url)\n",
    "        \n",
    "    return tv_show_urls"
   ]
  },
  {
   "cell_type": "markdown",
   "id": "ca21bd8e",
   "metadata": {},
   "source": [
    "The function `get_tv_show_url` takes a Beautiful Soup object as an input and returns all the individual websites of the TV Shows mentioned. "
   ]
  },
  {
   "cell_type": "code",
   "execution_count": 45,
   "id": "ef606494",
   "metadata": {},
   "outputs": [],
   "source": [
    "tv_show_urls = get_tv_show_url(doc)"
   ]
  },
  {
   "cell_type": "code",
   "execution_count": 46,
   "id": "37c64061",
   "metadata": {},
   "outputs": [
    {
     "data": {
      "text/plain": [
       "250"
      ]
     },
     "execution_count": 46,
     "metadata": {},
     "output_type": "execute_result"
    }
   ],
   "source": [
    "len(tv_show_urls)"
   ]
  },
  {
   "cell_type": "markdown",
   "id": "844002de",
   "metadata": {},
   "source": [
    "The variable *tv_show_urls* has all individual TV Show URLS. It has the length 250 which confirms that my function is working. Here is the links of the first 5 TV Shows:"
   ]
  },
  {
   "cell_type": "code",
   "execution_count": 47,
   "id": "bed8f973",
   "metadata": {},
   "outputs": [
    {
     "data": {
      "text/plain": [
       "['https://www.imdb.com/title/tt5491994/',\n",
       " 'https://www.imdb.com/title/tt0795176/',\n",
       " 'https://www.imdb.com/title/tt0903747/',\n",
       " 'https://www.imdb.com/title/tt0185906/',\n",
       " 'https://www.imdb.com/title/tt7366338/']"
      ]
     },
     "execution_count": 47,
     "metadata": {},
     "output_type": "execute_result"
    }
   ],
   "source": [
    "tv_show_urls[:5]"
   ]
  },
  {
   "cell_type": "markdown",
   "id": "778857e0",
   "metadata": {},
   "source": [
    " "
   ]
  },
  {
   "cell_type": "markdown",
   "id": "cd8ad4f2",
   "metadata": {},
   "source": [
    "I can use the `get_page` function defined earlier to get the Beautiful Soup object by passing the url of the TV Shows.\n",
    "\n",
    "I will be using the object to get further information in the individual site."
   ]
  },
  {
   "cell_type": "markdown",
   "id": "cf507119",
   "metadata": {},
   "source": [
    "### Finding Genres of the TV Shows \n",
    "The Genres is contained in the `span` tag of class `ipc-chip__text` having a parent `div` tag of class `GenresAndPlot__ContentParent-cum89p-8 bFvaWW Hero__GenresAndPlotContainer-kvkd64-11 twqaW` or in some cases of class `GenresAndPlot__OffsetContentParent-cum89p-9 dUAPpa Hero__GenresAndPlotContainer-kvkd64-11 twqaW` as shown in the picture below:\n",
    "![](https://i.imgur.com/HLyMVg7.png)\n",
    "\n",
    "![](https://i.imgur.com/mPBmTb5.png)\n",
    "\n",
    "Here is a function to do so:"
   ]
  },
  {
   "cell_type": "code",
   "execution_count": 49,
   "id": "743915ef",
   "metadata": {},
   "outputs": [],
   "source": [
    "def get_genres(doc):\n",
    "    # Get div tags of class 'GenresAndPlot__ContentParent-cum89p-8 bFvaWW Hero__GenresAndPlotContainer-kvkd64-11 twqaW' and 'GenresAndPlot__OffsetContentParent-cum89p-9 dUAPpa Hero__GenresAndPlotContainer-kvkd64-11 twqaW'\n",
    "    div_tags_genres = doc.find_all(\"div\", {\"class\":[\"GenresAndPlot__ContentParent-cum89p-8 bFvaWW Hero__GenresAndPlotContainer-kvkd64-11 twqaW\",\n",
    "    \"GenresAndPlot__OffsetContentParent-cum89p-9 dUAPpa Hero__GenresAndPlotContainer-kvkd64-11 twqaW\"]})\n",
    "        \n",
    "    # Get span tags of class'chip__text' from the div tags \n",
    "    span_tags_genres = []\n",
    "    for div_tags_genre in div_tags_genres:\n",
    "        span_tags_genres.append(div_tags_genre.find_all('span', class_ = 'ipc-chip__text'))\n",
    "    \n",
    "    # Iterate over individual tags to extract .text of span tag and append all the results to show_genre    \n",
    "    show_genre = []\n",
    "    for span_tags_genre in span_tags_genres[0]:\n",
    "        show_genre.append(span_tags_genre.text)\n",
    "    tv_show_genres = '|'.join(show_genre)\n",
    "    \n",
    "    return tv_show_genres"
   ]
  },
  {
   "cell_type": "code",
   "execution_count": 50,
   "id": "23db87a7",
   "metadata": {},
   "outputs": [],
   "source": [
    "ex_web_page_url = tv_show_urls[2]"
   ]
  },
  {
   "cell_type": "code",
   "execution_count": 51,
   "id": "8fa75c73",
   "metadata": {},
   "outputs": [
    {
     "data": {
      "text/plain": [
       "'https://www.imdb.com/title/tt0903747/'"
      ]
     },
     "execution_count": 51,
     "metadata": {},
     "output_type": "execute_result"
    }
   ],
   "source": [
    "ex_web_page_url"
   ]
  },
  {
   "cell_type": "markdown",
   "id": "08cf520d",
   "metadata": {},
   "source": [
    "Storing a sample TV Show website in *ex_web_page_url* to test out my function"
   ]
  },
  {
   "cell_type": "code",
   "execution_count": 52,
   "id": "4cf41296",
   "metadata": {},
   "outputs": [],
   "source": [
    "ex_web_page_doc = get_page(ex_web_page_url)"
   ]
  },
  {
   "cell_type": "markdown",
   "id": "8a9f5ffa",
   "metadata": {},
   "source": [
    "Calling `get_page` function with *ex_web_page_url* as input url to get a Beautiful Soup object of the website and storing it in *ex_web_page_doc*"
   ]
  },
  {
   "cell_type": "code",
   "execution_count": 54,
   "id": "7015431a",
   "metadata": {},
   "outputs": [
    {
     "data": {
      "text/plain": [
       "'Crime|Drama|Thriller'"
      ]
     },
     "execution_count": 54,
     "metadata": {},
     "output_type": "execute_result"
    }
   ],
   "source": [
    "get_genres(ex_web_page_doc)"
   ]
  },
  {
   "cell_type": "markdown",
   "id": "ec7f4396",
   "metadata": {},
   "source": [
    "The function `get_genres` works accurately and returns the Genre of a single TV Show. "
   ]
  },
  {
   "cell_type": "markdown",
   "id": "d3b0656a",
   "metadata": {},
   "source": [
    "### Finding Runtime of the TV Shows \n",
    "The Runtime of the TV Show is contained in the `li` tag of parent `ul` tag of class `ipc-inline-list ipc-inline-list--show-dividers TitleBlockMetaData__MetaDataList-sc-12ein40-0 dxizHm baseAlt` as show in the picture below:\n",
    "![](https://i.imgur.com/pv39LIm.png)\n",
    "\n",
    "Here is a function to get the Runtime of the TV Show:"
   ]
  },
  {
   "cell_type": "code",
   "execution_count": 55,
   "id": "fb0dba53",
   "metadata": {},
   "outputs": [],
   "source": [
    "def get_runtime(doc):\n",
    "    # Get span tags for Runtime\n",
    "    ul_tags = doc.find_all('ul', class_ = 'ipc-inline-list ipc-inline-list--show-dividers TitleBlockMetaData__MetaDataList-sc-12ein40-0 dxizHm baseAlt')\n",
    "    \n",
    "    # Iterate over single ul tags to get the child li tag and append all of them to the li_tags_run_time variable\n",
    "    li_tags_run_time = []\n",
    "    for ul_tag in ul_tags:\n",
    "        for li in ul_tag.findAll('li'):\n",
    "            li_tags_run_time.append(li)\n",
    "\n",
    "    # Removing the Runtime which is present in the last li tag \n",
    "    tv_show_run_time = li_tags_run_time[-1].text\n",
    "    return tv_show_run_time"
   ]
  },
  {
   "cell_type": "markdown",
   "id": "37798434",
   "metadata": {},
   "source": [
    "Let's test out the function `get_runtime` by passing our `ex_web_page_doc` from before:"
   ]
  },
  {
   "cell_type": "code",
   "execution_count": 56,
   "id": "d9ef879a",
   "metadata": {},
   "outputs": [
    {
     "data": {
      "text/plain": [
       "'49min'"
      ]
     },
     "execution_count": 56,
     "metadata": {},
     "output_type": "execute_result"
    }
   ],
   "source": [
    "get_runtime(ex_web_page_doc)"
   ]
  },
  {
   "cell_type": "markdown",
   "id": "a2ebda75",
   "metadata": {},
   "source": [
    "The function `get_runtime` works accurately and returns the Runtime of a single TV Show. "
   ]
  },
  {
   "cell_type": "markdown",
   "id": "fec10ee6",
   "metadata": {},
   "source": [
    "### Finding Plot Summary of the TV Shows \n",
    "The Plot Summary is contained in the `div` tag of class `ipc-html-content ipc-html-content--base` as shown below:\n",
    "![](https://i.imgur.com/r9Wz1x3.png)\n",
    "\n",
    "The function to extract the Plot Summary of TV Shows is given below:"
   ]
  },
  {
   "cell_type": "code",
   "execution_count": 63,
   "id": "2fca5b4c",
   "metadata": {},
   "outputs": [],
   "source": [
    "def get_plot_summary(doc):\n",
    "    # Get div tags for Plot Summary \n",
    "    div_tags_summary = doc.find_all('div', class_ = 'ipc-html-content ipc-html-content--base')\n",
    "    \n",
    "    tv_show_summary = div_tags_summary[0].text\n",
    "    return tv_show_summary"
   ]
  },
  {
   "cell_type": "code",
   "execution_count": 64,
   "id": "a5b910cf",
   "metadata": {},
   "outputs": [
    {
     "data": {
      "text/plain": [
       "'When chemistry teacher Walter White is diagnosed with Stage III cancer and given only two years to live, he decides he has nothing to lose. He lives with his teenage son, who has cerebral palsy, and his wife, in New Mexico. Determined to ensure that his family will have a secure future, Walt embarks on a career of drugs and crime. He proves to be remarkably proficient in this new world as he begins manufacturing and selling methamphetamine with one of his former students. The series tracks the impacts of a fatal diagnosis on a regular, hard working man, and explores how a fatal diagnosis affects his morality and transforms him into a major player of the drug trade. —WellardRockard, jackenyon'"
      ]
     },
     "execution_count": 64,
     "metadata": {},
     "output_type": "execute_result"
    }
   ],
   "source": [
    "get_plot_summary(ex_web_page_doc)"
   ]
  },
  {
   "cell_type": "markdown",
   "id": "e6824e0f",
   "metadata": {},
   "source": [
    "The function `get_plot_summary` works accurately when `ex_web_page_doc` is passed. It successfully returns the Plot Summary of a single TV Show."
   ]
  },
  {
   "cell_type": "markdown",
   "id": "f5896b34",
   "metadata": {},
   "source": [
    "I have combined all the above functions for Genre, Runtime, and Plot Summary to a single function to return all the extra information of the TV Show from individual pages"
   ]
  },
  {
   "cell_type": "code",
   "execution_count": 65,
   "id": "2e60eb22",
   "metadata": {},
   "outputs": [],
   "source": [
    "def get_tv_show_info(doc):\n",
    "    return get_genres(doc), get_runtime(doc), get_plot_summary(doc)"
   ]
  },
  {
   "cell_type": "code",
   "execution_count": 66,
   "id": "5cd0b19e",
   "metadata": {
    "scrolled": true
   },
   "outputs": [
    {
     "data": {
      "text/plain": [
       "('Crime|Drama|Thriller',\n",
       " '49min',\n",
       " 'When chemistry teacher Walter White is diagnosed with Stage III cancer and given only two years to live, he decides he has nothing to lose. He lives with his teenage son, who has cerebral palsy, and his wife, in New Mexico. Determined to ensure that his family will have a secure future, Walt embarks on a career of drugs and crime. He proves to be remarkably proficient in this new world as he begins manufacturing and selling methamphetamine with one of his former students. The series tracks the impacts of a fatal diagnosis on a regular, hard working man, and explores how a fatal diagnosis affects his morality and transforms him into a major player of the drug trade. —WellardRockard, jackenyon')"
      ]
     },
     "execution_count": 66,
     "metadata": {},
     "output_type": "execute_result"
    }
   ],
   "source": [
    "get_tv_show_info(ex_web_page_doc)"
   ]
  },
  {
   "cell_type": "markdown",
   "id": "6a781e5a",
   "metadata": {},
   "source": [
    "The function `get_tv_show_info` works correctly and returns the Genre, Runtime, and Plot Summary of a single TV Show after taking a Beautiful Soup object. "
   ]
  },
  {
   "cell_type": "markdown",
   "id": "c5194e1d",
   "metadata": {},
   "source": [
    "## Complie extracted information into Python dictionaries and `Pandas` DataFrame"
   ]
  },
  {
   "cell_type": "markdown",
   "id": "08ebcb78",
   "metadata": {},
   "source": [
    "Now I will be storing all the extracted information in one single `Pandas` DataFrame for easier data manipulation. First I will store the list of Ranks, Titles, Release Years, and Ratings collected from the homepage. \n",
    "\n",
    "Here is the first function to return TV Show Rank, Title, Release Year, Ratings in a single `Pandas` DataFrame:"
   ]
  },
  {
   "cell_type": "code",
   "execution_count": 69,
   "id": "68eec1a4",
   "metadata": {},
   "outputs": [],
   "source": [
    "def get_tv_show_df (doc):\n",
    "    # Calling the required functions to get rank, title, release year, and IMDb ratings\n",
    "    rank = get_ranks(doc)\n",
    "    title = get_title(doc)\n",
    "    year = get_release_years(doc)\n",
    "    rating = get_ratings(doc) \n",
    "    \n",
    "    # Defining a dictionary to store TV Show Information\n",
    "    tv_show_dict = {\n",
    "        'Rank' : rank,\n",
    "        'Title' : title,\n",
    "        'Release Year' : year,\n",
    "        'IMDb Rating' : rating\n",
    "    }\n",
    "    # Converting TV Show dictionary to a Pandas Dataframe\n",
    "    tv_show_df = pd.DataFrame(tv_show_dict)\n",
    "    return tv_show_df"
   ]
  },
  {
   "cell_type": "code",
   "execution_count": 70,
   "id": "ab72b6d6",
   "metadata": {},
   "outputs": [
    {
     "data": {
      "text/html": [
       "<div>\n",
       "<style scoped>\n",
       "    .dataframe tbody tr th:only-of-type {\n",
       "        vertical-align: middle;\n",
       "    }\n",
       "\n",
       "    .dataframe tbody tr th {\n",
       "        vertical-align: top;\n",
       "    }\n",
       "\n",
       "    .dataframe thead th {\n",
       "        text-align: right;\n",
       "    }\n",
       "</style>\n",
       "<table border=\"1\" class=\"dataframe\">\n",
       "  <thead>\n",
       "    <tr style=\"text-align: right;\">\n",
       "      <th></th>\n",
       "      <th>Rank</th>\n",
       "      <th>Title</th>\n",
       "      <th>Release Year</th>\n",
       "      <th>IMDb Rating</th>\n",
       "    </tr>\n",
       "  </thead>\n",
       "  <tbody>\n",
       "    <tr>\n",
       "      <th>0</th>\n",
       "      <td>1</td>\n",
       "      <td>Planet Earth II</td>\n",
       "      <td>2016</td>\n",
       "      <td>9.5</td>\n",
       "    </tr>\n",
       "    <tr>\n",
       "      <th>1</th>\n",
       "      <td>2</td>\n",
       "      <td>Planet Earth</td>\n",
       "      <td>2006</td>\n",
       "      <td>9.4</td>\n",
       "    </tr>\n",
       "    <tr>\n",
       "      <th>2</th>\n",
       "      <td>3</td>\n",
       "      <td>Breaking Bad</td>\n",
       "      <td>2008</td>\n",
       "      <td>9.4</td>\n",
       "    </tr>\n",
       "    <tr>\n",
       "      <th>3</th>\n",
       "      <td>4</td>\n",
       "      <td>Band of Brothers</td>\n",
       "      <td>2001</td>\n",
       "      <td>9.4</td>\n",
       "    </tr>\n",
       "    <tr>\n",
       "      <th>4</th>\n",
       "      <td>5</td>\n",
       "      <td>Chernobyl</td>\n",
       "      <td>2019</td>\n",
       "      <td>9.3</td>\n",
       "    </tr>\n",
       "    <tr>\n",
       "      <th>...</th>\n",
       "      <td>...</td>\n",
       "      <td>...</td>\n",
       "      <td>...</td>\n",
       "      <td>...</td>\n",
       "    </tr>\n",
       "    <tr>\n",
       "      <th>245</th>\n",
       "      <td>246</td>\n",
       "      <td>Rurouni Kenshin</td>\n",
       "      <td>1996</td>\n",
       "      <td>8.4</td>\n",
       "    </tr>\n",
       "    <tr>\n",
       "      <th>246</th>\n",
       "      <td>247</td>\n",
       "      <td>Normal People</td>\n",
       "      <td>2020</td>\n",
       "      <td>8.4</td>\n",
       "    </tr>\n",
       "    <tr>\n",
       "      <th>247</th>\n",
       "      <td>248</td>\n",
       "      <td>House of Cards</td>\n",
       "      <td>1990</td>\n",
       "      <td>8.4</td>\n",
       "    </tr>\n",
       "    <tr>\n",
       "      <th>248</th>\n",
       "      <td>249</td>\n",
       "      <td>Anne of Green Gables</td>\n",
       "      <td>1985</td>\n",
       "      <td>8.4</td>\n",
       "    </tr>\n",
       "    <tr>\n",
       "      <th>249</th>\n",
       "      <td>250</td>\n",
       "      <td>The Prisoner</td>\n",
       "      <td>1967</td>\n",
       "      <td>8.4</td>\n",
       "    </tr>\n",
       "  </tbody>\n",
       "</table>\n",
       "<p>250 rows × 4 columns</p>\n",
       "</div>"
      ],
      "text/plain": [
       "    Rank                 Title Release Year IMDb Rating\n",
       "0      1       Planet Earth II         2016         9.5\n",
       "1      2          Planet Earth         2006         9.4\n",
       "2      3          Breaking Bad         2008         9.4\n",
       "3      4      Band of Brothers         2001         9.4\n",
       "4      5             Chernobyl         2019         9.3\n",
       "..   ...                   ...          ...         ...\n",
       "245  246       Rurouni Kenshin         1996         8.4\n",
       "246  247         Normal People         2020         8.4\n",
       "247  248        House of Cards         1990         8.4\n",
       "248  249  Anne of Green Gables         1985         8.4\n",
       "249  250          The Prisoner         1967         8.4\n",
       "\n",
       "[250 rows x 4 columns]"
      ]
     },
     "execution_count": 70,
     "metadata": {},
     "output_type": "execute_result"
    }
   ],
   "source": [
    "get_tv_show_df(doc)"
   ]
  },
  {
   "cell_type": "markdown",
   "id": "db1aff01",
   "metadata": {},
   "source": [
    "The function `tv_show_df` takes a Beautiful Soup object and returns a `pandas` dataframe containing information about the TV Show Rank, Title, Release Year, and IMDb Rating. As shown above, the dataframe has 250 rows and 4 columns of data which confirms my function is working accurately. "
   ]
  },
  {
   "cell_type": "markdown",
   "id": "cecfb364",
   "metadata": {},
   "source": [
    "Now, I will write a function to store the Genre, Runtime, and Summary of TV Shows in a single `Pandas` DataFrame. \n",
    "\n",
    "Since my function `get_tv_show_info` just returns the required information about a single TV Show, I will be passing the *tv_show_urls* variable iteratively in the `get_page` function to get the list of Beautiful Soup objects for all the TV Show URLS. This object will then be passed in `get_tv_show_info` function and the information will be extracted and appended accordingly. \n",
    "\n",
    "Below is the function to return TV Show Genre, Runtime, and Summary in a single `Pandas` DataFrame "
   ]
  },
  {
   "cell_type": "code",
   "execution_count": 72,
   "id": "c88f0208",
   "metadata": {},
   "outputs": [],
   "source": [
    "def get_extra_tv_show_info_df(tv_show_urls):\n",
    "    # Defining an empty dictionary to store extra TV Show Information\n",
    "    extra_info = { \n",
    "        'Genre' : [],\n",
    "        'Runtime' : [], \n",
    "        'Summary' : []\n",
    "    }\n",
    "    \n",
    "    # Iterate over all the tv show urls \n",
    "    for i in range(len(tv_show_urls)):\n",
    "        # Call get_page and get_tv_show_info function iteratively\n",
    "        show_info = get_tv_show_info(get_page(tv_show_urls[i]))\n",
    "        # Append Genre, Runtime, and Summary from show_info to the dictionary\n",
    "        extra_info['Genre'].append(show_info[0])\n",
    "        extra_info['Runtime'].append(show_info[1])\n",
    "        extra_info['Summary'].append(show_info[2])\n",
    "    extra_info_df = pd.DataFrame(extra_info)\n",
    "    return extra_info_df"
   ]
  },
  {
   "cell_type": "markdown",
   "id": "cad02094",
   "metadata": {},
   "source": [
    "### A Single Function to Scrape IMDb for TV Shows "
   ]
  },
  {
   "cell_type": "code",
   "execution_count": 73,
   "id": "f6d9391d",
   "metadata": {},
   "outputs": [],
   "source": [
    "def scrape_imdb_tv_shows():\n",
    "    '''Get the top 250 TV Shows from IMDb'''\n",
    "    \n",
    "    # Calling the tv_show_df and get_extra_show_info_df and storing the information into variables \n",
    "    tv_shows_df = get_tv_show_df (doc) \n",
    "    extra_info_df = get_extra_tv_show_info_df(tv_show_urls)\n",
    "    # Joining the two dataframes into one single DataFrame\n",
    "    result = pd.concat([tv_shows_df, extra_info_df], axis = 1, join = 'inner')\n",
    "    return result"
   ]
  },
  {
   "cell_type": "code",
   "execution_count": 74,
   "id": "f52f54c4",
   "metadata": {},
   "outputs": [],
   "source": [
    "result = scrape_imdb_tv_shows()"
   ]
  },
  {
   "cell_type": "code",
   "execution_count": 75,
   "id": "dc3a5fd7",
   "metadata": {},
   "outputs": [
    {
     "data": {
      "text/html": [
       "<div>\n",
       "<style scoped>\n",
       "    .dataframe tbody tr th:only-of-type {\n",
       "        vertical-align: middle;\n",
       "    }\n",
       "\n",
       "    .dataframe tbody tr th {\n",
       "        vertical-align: top;\n",
       "    }\n",
       "\n",
       "    .dataframe thead th {\n",
       "        text-align: right;\n",
       "    }\n",
       "</style>\n",
       "<table border=\"1\" class=\"dataframe\">\n",
       "  <thead>\n",
       "    <tr style=\"text-align: right;\">\n",
       "      <th></th>\n",
       "      <th>Rank</th>\n",
       "      <th>Title</th>\n",
       "      <th>Release Year</th>\n",
       "      <th>IMDb Rating</th>\n",
       "      <th>Genre</th>\n",
       "      <th>Runtime</th>\n",
       "      <th>Summary</th>\n",
       "    </tr>\n",
       "  </thead>\n",
       "  <tbody>\n",
       "    <tr>\n",
       "      <th>0</th>\n",
       "      <td>1</td>\n",
       "      <td>Planet Earth II</td>\n",
       "      <td>2016</td>\n",
       "      <td>9.5</td>\n",
       "      <td>Documentary</td>\n",
       "      <td>4h 58min</td>\n",
       "      <td>Wildlife documentary series with David Attenbo...</td>\n",
       "    </tr>\n",
       "    <tr>\n",
       "      <th>1</th>\n",
       "      <td>2</td>\n",
       "      <td>Planet Earth</td>\n",
       "      <td>2006</td>\n",
       "      <td>9.4</td>\n",
       "      <td>Documentary</td>\n",
       "      <td>8h 58min</td>\n",
       "      <td>Each 50 minute episode features a global overv...</td>\n",
       "    </tr>\n",
       "    <tr>\n",
       "      <th>2</th>\n",
       "      <td>3</td>\n",
       "      <td>Breaking Bad</td>\n",
       "      <td>2008</td>\n",
       "      <td>9.4</td>\n",
       "      <td>Crime|Drama|Thriller</td>\n",
       "      <td>49min</td>\n",
       "      <td>When chemistry teacher Walter White is diagnos...</td>\n",
       "    </tr>\n",
       "    <tr>\n",
       "      <th>3</th>\n",
       "      <td>4</td>\n",
       "      <td>Band of Brothers</td>\n",
       "      <td>2001</td>\n",
       "      <td>9.4</td>\n",
       "      <td>Action|Drama|History</td>\n",
       "      <td>9h 54min</td>\n",
       "      <td>This is the story of \"E\" Easy Company, 506th R...</td>\n",
       "    </tr>\n",
       "    <tr>\n",
       "      <th>4</th>\n",
       "      <td>5</td>\n",
       "      <td>Chernobyl</td>\n",
       "      <td>2019</td>\n",
       "      <td>9.3</td>\n",
       "      <td>Drama|History|Thriller</td>\n",
       "      <td>5h 30min</td>\n",
       "      <td>In April 1986, a huge explosion erupted at the...</td>\n",
       "    </tr>\n",
       "    <tr>\n",
       "      <th>...</th>\n",
       "      <td>...</td>\n",
       "      <td>...</td>\n",
       "      <td>...</td>\n",
       "      <td>...</td>\n",
       "      <td>...</td>\n",
       "      <td>...</td>\n",
       "      <td>...</td>\n",
       "    </tr>\n",
       "    <tr>\n",
       "      <th>245</th>\n",
       "      <td>246</td>\n",
       "      <td>Rurouni Kenshin</td>\n",
       "      <td>1996</td>\n",
       "      <td>8.4</td>\n",
       "      <td>Animation|Action|Adventure</td>\n",
       "      <td>24min</td>\n",
       "      <td>A man slayer, Kenshin Himura, who played a maj...</td>\n",
       "    </tr>\n",
       "    <tr>\n",
       "      <th>246</th>\n",
       "      <td>247</td>\n",
       "      <td>Normal People</td>\n",
       "      <td>2020</td>\n",
       "      <td>8.4</td>\n",
       "      <td>Drama|Romance</td>\n",
       "      <td>5h 39min</td>\n",
       "      <td>Marianne and Connell's time at secondary schoo...</td>\n",
       "    </tr>\n",
       "    <tr>\n",
       "      <th>247</th>\n",
       "      <td>248</td>\n",
       "      <td>House of Cards</td>\n",
       "      <td>1990</td>\n",
       "      <td>8.4</td>\n",
       "      <td>Drama</td>\n",
       "      <td>3h 46min</td>\n",
       "      <td>Francis Urquhart is the Chief Whip of the Cons...</td>\n",
       "    </tr>\n",
       "    <tr>\n",
       "      <th>248</th>\n",
       "      <td>249</td>\n",
       "      <td>Anne of Green Gables</td>\n",
       "      <td>1985</td>\n",
       "      <td>8.4</td>\n",
       "      <td>Drama|Family</td>\n",
       "      <td>3h 19min</td>\n",
       "      <td>At the turn of the century on Prince Edward Is...</td>\n",
       "    </tr>\n",
       "    <tr>\n",
       "      <th>249</th>\n",
       "      <td>250</td>\n",
       "      <td>The Prisoner</td>\n",
       "      <td>1967</td>\n",
       "      <td>8.4</td>\n",
       "      <td>Drama|Mystery|Sci-Fi</td>\n",
       "      <td>50min</td>\n",
       "      <td>\"The Prisoner\" is a unique piece of television...</td>\n",
       "    </tr>\n",
       "  </tbody>\n",
       "</table>\n",
       "<p>250 rows × 7 columns</p>\n",
       "</div>"
      ],
      "text/plain": [
       "    Rank                 Title Release Year IMDb Rating  \\\n",
       "0      1       Planet Earth II         2016         9.5   \n",
       "1      2          Planet Earth         2006         9.4   \n",
       "2      3          Breaking Bad         2008         9.4   \n",
       "3      4      Band of Brothers         2001         9.4   \n",
       "4      5             Chernobyl         2019         9.3   \n",
       "..   ...                   ...          ...         ...   \n",
       "245  246       Rurouni Kenshin         1996         8.4   \n",
       "246  247         Normal People         2020         8.4   \n",
       "247  248        House of Cards         1990         8.4   \n",
       "248  249  Anne of Green Gables         1985         8.4   \n",
       "249  250          The Prisoner         1967         8.4   \n",
       "\n",
       "                          Genre   Runtime  \\\n",
       "0                   Documentary  4h 58min   \n",
       "1                   Documentary  8h 58min   \n",
       "2          Crime|Drama|Thriller     49min   \n",
       "3          Action|Drama|History  9h 54min   \n",
       "4        Drama|History|Thriller  5h 30min   \n",
       "..                          ...       ...   \n",
       "245  Animation|Action|Adventure     24min   \n",
       "246               Drama|Romance  5h 39min   \n",
       "247                       Drama  3h 46min   \n",
       "248                Drama|Family  3h 19min   \n",
       "249        Drama|Mystery|Sci-Fi     50min   \n",
       "\n",
       "                                               Summary  \n",
       "0    Wildlife documentary series with David Attenbo...  \n",
       "1    Each 50 minute episode features a global overv...  \n",
       "2    When chemistry teacher Walter White is diagnos...  \n",
       "3    This is the story of \"E\" Easy Company, 506th R...  \n",
       "4    In April 1986, a huge explosion erupted at the...  \n",
       "..                                                 ...  \n",
       "245  A man slayer, Kenshin Himura, who played a maj...  \n",
       "246  Marianne and Connell's time at secondary schoo...  \n",
       "247  Francis Urquhart is the Chief Whip of the Cons...  \n",
       "248  At the turn of the century on Prince Edward Is...  \n",
       "249  \"The Prisoner\" is a unique piece of television...  \n",
       "\n",
       "[250 rows x 7 columns]"
      ]
     },
     "execution_count": 75,
     "metadata": {},
     "output_type": "execute_result"
    }
   ],
   "source": [
    "result "
   ]
  },
  {
   "cell_type": "markdown",
   "id": "cdf80703",
   "metadata": {},
   "source": [
    "Calling `scrape_imdb_tv_shows` function returns the top 250 TV Shows from IMDb in a single `Pandas` DataFrame. The variable *result* has the output. "
   ]
  },
  {
   "cell_type": "markdown",
   "id": "afd3ed0b",
   "metadata": {},
   "source": [
    "## Save the extracted information to a CSV file"
   ]
  },
  {
   "cell_type": "code",
   "execution_count": 76,
   "id": "26c326f8",
   "metadata": {
    "scrolled": false
   },
   "outputs": [],
   "source": [
    "result.to_csv('TOP_250_TV_SHOW_INFO', index = False)"
   ]
  },
  {
   "cell_type": "markdown",
   "id": "fb4e5ba7",
   "metadata": {},
   "source": [
    "The file *TOP_250_TV_SHOW_INFO* contains all the extracted information in CSV format."
   ]
  },
  {
   "cell_type": "markdown",
   "id": "fdb15b0c",
   "metadata": {},
   "source": [
    "## Summary\n",
    "Here is a quick outline what I did in this project:\n",
    "1. Import the required libraries and download the website using `requests`\n",
    "2. Parse the HTML source code using `BeautifulSoup`\n",
    "3. Extract the top 250 TV Shows rank, title, release year, IMDb ratings, genre, runtime, and plot summary from the website\n",
    "4. Complie extracted information into Python dictionaries and `Pandas` DataFrame\n",
    "5. Save the extracted information to a CSV file. \n",
    "\n",
    "The CSV file *TOP_250_TV_SHOW_INFO* created in the project is in the following format:\n",
    "\n",
    "```\n",
    "Rank, Title, Release Year, IMDb Ratings, Genre, Runtime, Plot Summary\n",
    "1, Planet Earth II, 2016, 9.5, Documentary, 4h 58min, Wildlife documentary series with David Attenborough, beginning with a look at the remote islands which offer sanctuary to some of the planet's rarest creatures, to the beauty of cities, which are home to humans, and animals..\n",
    "2, Planet Earth, 2006, 9.4, Documentary, 8h 58min, Emmy Award-winning, 11 episodes, five years in the making, the most expensive nature documentary series ever commissioned by the BBC, and the first to be filmed in high definition.\t\n",
    "....\n",
    "```"
   ]
  },
  {
   "cell_type": "markdown",
   "id": "d03dc180",
   "metadata": {},
   "source": [
    "## Future Work \n",
    "The dataset from this project can be used for further data analysis and visualization. "
   ]
  },
  {
   "cell_type": "markdown",
   "id": "c23c9020",
   "metadata": {},
   "source": [
    "## References\n",
    "1. Requests Documentation: https://docs.python-requests.org/en/master/index.html\n",
    "2. Beautiful Soup Documentation: https://www.crummy.com/software/BeautifulSoup/bs4/doc/\n",
    "3. Pandas Documentation: https://pandas.pydata.org/docs/\n",
    "4. Web Scraping tutorial: https://www.tutorialspoint.com/python_web_scraping/index.htm\n",
    " "
   ]
  },
  {
   "cell_type": "code",
   "execution_count": null,
   "id": "d9b2aff5",
   "metadata": {},
   "outputs": [
    {
     "data": {
      "application/javascript": [
       "window.require && require([\"base/js/namespace\"],function(Jupyter){Jupyter.notebook.save_checkpoint()})"
      ],
      "text/plain": [
       "<IPython.core.display.Javascript object>"
      ]
     },
     "metadata": {},
     "output_type": "display_data"
    }
   ],
   "source": [
    "jovian.commit(output=['TOP_250_TV_SHOW_INFO.csv'])"
   ]
  },
  {
   "cell_type": "code",
   "execution_count": null,
   "id": "8b11b05d",
   "metadata": {},
   "outputs": [],
   "source": []
  }
 ],
 "metadata": {
  "kernelspec": {
   "display_name": "Python 3 (ipykernel)",
   "language": "python",
   "name": "python3"
  },
  "language_info": {
   "codemirror_mode": {
    "name": "ipython",
    "version": 3
   },
   "file_extension": ".py",
   "mimetype": "text/x-python",
   "name": "python",
   "nbconvert_exporter": "python",
   "pygments_lexer": "ipython3",
   "version": "3.9.6"
  }
 },
 "nbformat": 4,
 "nbformat_minor": 5
}
